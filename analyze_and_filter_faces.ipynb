{
 "cells": [
  {
   "cell_type": "code",
   "execution_count": null,
   "metadata": {},
   "outputs": [],
   "source": [
    "# inference on faces"
   ]
  },
  {
   "cell_type": "code",
   "execution_count": 2,
   "metadata": {},
   "outputs": [],
   "source": [
    "%reload_ext autoreload\n",
    "%autoreload 2\n",
    "\n",
    "import CLIB_analysis_module as clib"
   ]
  },
  {
   "cell_type": "code",
   "execution_count": 5,
   "metadata": {},
   "outputs": [
    {
     "data": {
      "text/plain": [
       "{'image_path': '/home/veronicabossio/face_datasets/filtered_pose_quality_expression/ref_WM-217_dir2_angle5.0.png',\n",
       " 'quality': array(0.7782597, dtype=float32),\n",
       " 'pose': 'frontal',\n",
       " 'expression_score': np.float16(0.269),\n",
       " 'expression': 'typical expression',\n",
       " 'lighting': 'extreme lighting',\n",
       " 'message': 'A photo of a [clear], [unobstructed], and [frontal] face with [typical expression] under [extreme lighting]'}"
      ]
     },
     "execution_count": 5,
     "metadata": {},
     "output_type": "execute_result"
    }
   ],
   "source": [
    "image_summary = clib.analyze_image(\"/home/veronicabossio/face_datasets/filtered_pose_quality_expression/ref_WM-217_dir2_angle5.0.png\")\n",
    "image_summary"
   ]
  },
  {
   "cell_type": "code",
   "execution_count": 3,
   "metadata": {},
   "outputs": [
    {
     "name": "stdout",
     "output_type": "stream",
     "text": [
      "Copied: ref_LM-234_dir1_angle5.0.png - A photo of a [clear], [unobstructed], and [frontal] face with [typical expression] under [extreme lighting]\n",
      "Copied: ref_LM-234_dir4_angle5.0.png - A photo of a [clear], [unobstructed], and [frontal] face with [typical expression] under [normal lighting]\n",
      "Copied: ref_WM-204_dir-1_angle0.0.png - A photo of a [clear], [unobstructed], and [frontal] face with [typical expression] under [normal lighting]\n",
      "Copied: ref_WM-204_dir0_angle35.0.png - A photo of a [clear], [unobstructed], and [frontal] face with [typical expression] under [normal lighting]\n",
      "Copied: ref_BM-244_dir0_angle35.0.png - A photo of a [clear], [unobstructed], and [frontal] face with [typical expression] under [normal lighting]\n",
      "Copied: ref_BM-244_dir3_angle35.0.png - A photo of a [clear], [unobstructed], and [frontal] face with [typical expression] under [normal lighting]\n",
      "Copied: ref_WM-026_dir4_angle15.0.png - A photo of a [clear], [unobstructed], and [frontal] face with [typical expression] under [normal lighting]\n",
      "Copied: ref_LM-242_dir4_angle5.0.png - A photo of a [clear], [unobstructed], and [frontal] face with [typical expression] under [extreme lighting]\n",
      "Copied: ref_WM-026_dir2_angle15.0.png - A photo of a [clear], [unobstructed], and [frontal] face with [typical expression] under [extreme lighting]\n",
      "Copied: ref_LM-242_dir3_angle25.0.png - A photo of a [clear], [unobstructed], and [frontal] face with [typical expression] under [extreme lighting]\n",
      "Copied: ref_BM-244_dir4_angle15.0.png - A photo of a [clear], [unobstructed], and [frontal] face with [typical expression] under [normal lighting]\n",
      "Copied: ref_WM-040_dir4_angle15.0.png - A photo of a [clear], [unobstructed], and [frontal] face with [typical expression] under [extreme lighting]\n",
      "Copied: ref_WF-228_dir4_angle5.0.png - A photo of a [clear], [unobstructed], and [frontal] face with [typical expression] under [normal lighting]\n",
      "Copied: ref_WM-217_dir2_angle5.0.png - A photo of a [clear], [unobstructed], and [frontal] face with [typical expression] under [extreme lighting]\n",
      "Copied: ref_WM-040_dir1_angle5.0.png - A photo of a [clear], [unobstructed], and [frontal] face with [typical expression] under [extreme lighting]\n",
      "Copied: ref_BF-236_dir3_angle35.0.png - A photo of a [clear], [unobstructed], and [frontal] face with [typical expression] under [normal lighting]\n",
      "Copied: ref_WM-040_dir0_angle45.0.png - A photo of a [clear], [unobstructed], and [frontal] face with [typical expression] under [extreme lighting]\n",
      "Copied: ref_BM-244_dir3_angle25.0.png - A photo of a [clear], [unobstructed], and [frontal] face with [typical expression] under [normal lighting]\n",
      "Copied: ref_WF-228_dir1_angle5.0.png - A photo of a [clear], [unobstructed], and [frontal] face with [typical expression] under [extreme lighting]\n",
      "Copied: ref_WF-228_dir1_angle35.0.png - A photo of a [clear], [unobstructed], and [frontal] face with [typical expression] under [extreme lighting]\n",
      "Copied: ref_WM-217_dir3_angle45.0.png - A photo of a [clear], [unobstructed], and [frontal] face with [typical expression] under [normal lighting]\n",
      "Copied: ref_BM-244_dir1_angle15.0.png - A photo of a [clear], [unobstructed], and [frontal] face with [typical expression] under [normal lighting]\n",
      "Copied: ref_LM-242_dir2_angle5.0.png - A photo of a [clear], [unobstructed], and [frontal] face with [typical expression] under [extreme lighting]\n",
      "Copied: ref_WF-228_dir2_angle25.0.png - A photo of a [clear], [unobstructed], and [frontal] face with [typical expression] under [extreme lighting]\n",
      "Copied: ref_WM-217_dir0_angle15.0.png - A photo of a [clear], [unobstructed], and [frontal] face with [typical expression] under [extreme lighting]\n",
      "Copied: ref_WM-040_dir4_angle35.0.png - A photo of a [clear], [unobstructed], and [frontal] face with [typical expression] under [extreme lighting]\n",
      "Copied: ref_WM-204_dir1_angle5.0.png - A photo of a [clear], [unobstructed], and [frontal] face with [typical expression] under [extreme lighting]\n",
      "Copied: ref_WM-204_dir0_angle45.0.png - A photo of a [clear], [unobstructed], and [frontal] face with [typical expression] under [normal lighting]\n",
      "Copied: ref_LM-234_dir2_angle15.0.png - A photo of a [clear], [unobstructed], and [frontal] face with [typical expression] under [normal lighting]\n",
      "Copied: ref_AM-229_dir-1_angle0.0.png - A photo of a [clear], [unobstructed], and [frontal] face with [typical expression] under [extreme lighting]\n",
      "Copied: ref_BM-244_dir0_angle5.0.png - A photo of a [clear], [unobstructed], and [frontal] face with [typical expression] under [extreme lighting]\n",
      "Copied: ref_WM-040_dir2_angle25.0.png - A photo of a [clear], [unobstructed], and [frontal] face with [typical expression] under [normal lighting]\n",
      "Copied: ref_WM-204_dir0_angle25.0.png - A photo of a [clear], [unobstructed], and [frontal] face with [typical expression] under [normal lighting]\n",
      "Copied: ref_WM-204_dir1_angle25.0.png - A photo of a [clear], [unobstructed], and [frontal] face with [typical expression] under [normal lighting]\n",
      "Copied: ref_AM-229_dir2_angle45.0.png - A photo of a [clear], [unobstructed], and [frontal] face with [typical expression] under [normal lighting]\n",
      "Copied: ref_WF-228_dir0_angle5.0.png - A photo of a [clear], [unobstructed], and [frontal] face with [typical expression] under [extreme lighting]\n",
      "Copied: ref_WM-040_dir3_angle25.0.png - A photo of a [clear], [unobstructed], and [frontal] face with [typical expression] under [normal lighting]\n",
      "Copied: ref_BF-236_dir3_angle5.0.png - A photo of a [clear], [unobstructed], and [frontal] face with [typical expression] under [extreme lighting]\n",
      "Copied: ref_WM-026_dir0_angle25.0.png - A photo of a [clear], [unobstructed], and [frontal] face with [typical expression] under [normal lighting]\n",
      "Copied: ref_BF-236_dir-1_angle0.0.png - A photo of a [clear], [unobstructed], and [frontal] face with [typical expression] under [extreme lighting]\n",
      "Copied: ref_WM-204_dir2_angle5.0.png - A photo of a [clear], [unobstructed], and [frontal] face with [typical expression] under [normal lighting]\n",
      "Copied: ref_BM-244_dir4_angle5.0.png - A photo of a [clear], [unobstructed], and [frontal] face with [typical expression] under [normal lighting]\n",
      "Copied: ref_WM-040_dir4_angle5.0.png - A photo of a [clear], [unobstructed], and [frontal] face with [typical expression] under [extreme lighting]\n",
      "Copied: ref_WM-040_dir0_angle35.0.png - A photo of a [clear], [unobstructed], and [frontal] face with [typical expression] under [extreme lighting]\n",
      "Copied: ref_WM-204_dir3_angle35.0.png - A photo of a [clear], [unobstructed], and [frontal] face with [typical expression] under [normal lighting]\n",
      "Copied: ref_BM-244_dir2_angle15.0.png - A photo of a [clear], [unobstructed], and [frontal] face with [typical expression] under [normal lighting]\n",
      "Copied: ref_WM-040_dir3_angle5.0.png - A photo of a [clear], [unobstructed], and [frontal] face with [typical expression] under [extreme lighting]\n",
      "Copied: ref_WM-204_dir4_angle35.0.png - A photo of a [clear], [unobstructed], and [frontal] face with [typical expression] under [normal lighting]\n",
      "Copied: ref_BF-236_dir0_angle15.0.png - A photo of a [clear], [unobstructed], and [frontal] face with [typical expression] under [normal lighting]\n",
      "Copied: ref_AM-229_dir4_angle35.0.png - A photo of a [clear], [unobstructed], and [frontal] face with [typical expression] under [normal lighting]\n",
      "Copied: ref_WM-217_dir3_angle15.0.png - A photo of a [clear], [unobstructed], and [frontal] face with [typical expression] under [normal lighting]\n",
      "Copied: ref_WM-040_dir0_angle25.0.png - A photo of a [clear], [unobstructed], and [frontal] face with [typical expression] under [extreme lighting]\n",
      "Copied: ref_WM-026_dir4_angle45.0.png - A photo of a [clear], [unobstructed], and [frontal] face with [typical expression] under [extreme lighting]\n",
      "Copied: ref_LM-242_dir1_angle15.0.png - A photo of a [clear], [unobstructed], and [frontal] face with [typical expression] under [normal lighting]\n",
      "Copied: ref_WM-204_dir0_angle15.0.png - A photo of a [clear], [unobstructed], and [frontal] face with [typical expression] under [normal lighting]\n",
      "Copied: ref_LM-234_dir3_angle25.0.png - A photo of a [clear], [unobstructed], and [frontal] face with [typical expression] under [normal lighting]\n",
      "Copied: ref_LM-242_dir0_angle45.0.png - A photo of a [clear], [unobstructed], and [frontal] face with [typical expression] under [normal lighting]\n",
      "Copied: ref_WM-204_dir1_angle35.0.png - A photo of a [clear], [unobstructed], and [frontal] face with [typical expression] under [normal lighting]\n",
      "Copied: ref_WM-204_dir3_angle15.0.png - A photo of a [clear], [unobstructed], and [frontal] face with [typical expression] under [extreme lighting]\n",
      "Copied: ref_WM-204_dir2_angle15.0.png - A photo of a [clear], [unobstructed], and [frontal] face with [typical expression] under [normal lighting]\n",
      "Copied: ref_WM-040_dir0_angle15.0.png - A photo of a [clear], [unobstructed], and [frontal] face with [typical expression] under [extreme lighting]\n",
      "Copied: ref_LM-234_dir4_angle35.0.png - A photo of a [clear], [unobstructed], and [frontal] face with [typical expression] under [normal lighting]\n",
      "Copied: ref_LM-242_dir1_angle5.0.png - A photo of a [clear], [unobstructed], and [frontal] face with [typical expression] under [extreme lighting]\n",
      "Copied: ref_WM-026_dir1_angle5.0.png - A photo of a [clear], [unobstructed], and [frontal] face with [typical expression] under [normal lighting]\n",
      "Copied: ref_LM-234_dir2_angle5.0.png - A photo of a [clear], [unobstructed], and [frontal] face with [typical expression] under [extreme lighting]\n",
      "Copied: ref_WM-040_dir2_angle45.0.png - A photo of a [clear], [unobstructed], and [frontal] face with [typical expression] under [normal lighting]\n",
      "Copied: ref_BM-244_dir0_angle45.0.png - A photo of a [clear], [unobstructed], and [frontal] face with [typical expression] under [extreme lighting]\n",
      "Copied: ref_LM-234_dir0_angle15.0.png - A photo of a [clear], [unobstructed], and [frontal] face with [typical expression] under [extreme lighting]\n",
      "Copied: ref_LM-234_dir-1_angle0.0.png - A photo of a [clear], [unobstructed], and [frontal] face with [typical expression] under [normal lighting]\n",
      "Copied: ref_WM-204_dir4_angle5.0.png - A photo of a [clear], [unobstructed], and [frontal] face with [typical expression] under [extreme lighting]\n",
      "Copied: ref_LM-234_dir1_angle25.0.png - A photo of a [clear], [unobstructed], and [frontal] face with [typical expression] under [extreme lighting]\n",
      "Copied: ref_AM-229_dir4_angle25.0.png - A photo of a [clear], [unobstructed], and [frontal] face with [typical expression] under [normal lighting]\n",
      "Copied: ref_WF-228_dir1_angle15.0.png - A photo of a [clear], [unobstructed], and [frontal] face with [typical expression] under [normal lighting]\n",
      "Copied: ref_WM-040_dir0_angle5.0.png - A photo of a [clear], [unobstructed], and [frontal] face with [typical expression] under [extreme lighting]\n",
      "Copied: ref_LM-234_dir3_angle5.0.png - A photo of a [clear], [unobstructed], and [frontal] face with [typical expression] under [normal lighting]\n",
      "Copied: ref_WM-217_dir4_angle5.0.png - A photo of a [clear], [unobstructed], and [frontal] face with [typical expression] under [extreme lighting]\n",
      "Copied: ref_WM-217_dir4_angle25.0.png - A photo of a [clear], [unobstructed], and [frontal] face with [typical expression] under [normal lighting]\n",
      "Copied: ref_BF-236_dir4_angle15.0.png - A photo of a [clear], [unobstructed], and [frontal] face with [typical expression] under [normal lighting]\n",
      "Copied: ref_LM-242_dir2_angle15.0.png - A photo of a [clear], [unobstructed], and [frontal] face with [typical expression] under [extreme lighting]\n",
      "Copied: ref_LM-242_dir-1_angle0.0.png - A photo of a [clear], [unobstructed], and [frontal] face with [typical expression] under [extreme lighting]\n",
      "Copied: ref_WM-026_dir4_angle35.0.png - A photo of a [clear], [unobstructed], and [frontal] face with [typical expression] under [normal lighting]\n",
      "Copied: ref_WM-040_dir3_angle15.0.png - A photo of a [clear], [unobstructed], and [frontal] face with [typical expression] under [normal lighting]\n",
      "Copied: ref_BM-244_dir3_angle5.0.png - A photo of a [clear], [unobstructed], and [frontal] face with [typical expression] under [normal lighting]\n",
      "Copied: ref_WM-204_dir3_angle5.0.png - A photo of a [clear], [unobstructed], and [frontal] face with [typical expression] under [extreme lighting]\n",
      "Copied: ref_WM-040_dir4_angle25.0.png - A photo of a [clear], [unobstructed], and [frontal] face with [typical expression] under [extreme lighting]\n",
      "Copied: ref_LM-234_dir3_angle15.0.png - A photo of a [clear], [unobstructed], and [frontal] face with [typical expression] under [extreme lighting]\n",
      "Copied: ref_LM-234_dir0_angle35.0.png - A photo of a [clear], [unobstructed], and [frontal] face with [typical expression] under [extreme lighting]\n",
      "Copied: ref_WM-026_dir2_angle25.0.png - A photo of a [clear], [unobstructed], and [frontal] face with [typical expression] under [extreme lighting]\n",
      "Copied: ref_WM-040_dir1_angle45.0.png - A photo of a [clear], [unobstructed], and [frontal] face with [typical expression] under [normal lighting]\n",
      "Copied: ref_WF-228_dir4_angle15.0.png - A photo of a [clear], [unobstructed], and [frontal] face with [typical expression] under [normal lighting]\n",
      "Copied: ref_LM-234_dir2_angle35.0.png - A photo of a [clear], [unobstructed], and [frontal] face with [typical expression] under [normal lighting]\n",
      "Copied: ref_BM-244_dir1_angle5.0.png - A photo of a [clear], [unobstructed], and [frontal] face with [typical expression] under [normal lighting]\n",
      "Copied: ref_LM-242_dir4_angle15.0.png - A photo of a [clear], [unobstructed], and [frontal] face with [typical expression] under [normal lighting]\n",
      "Copied: ref_WM-026_dir3_angle15.0.png - A photo of a [clear], [unobstructed], and [frontal] face with [typical expression] under [normal lighting]\n",
      "Copied: ref_LM-242_dir0_angle35.0.png - A photo of a [clear], [unobstructed], and [frontal] face with [typical expression] under [normal lighting]\n",
      "Copied: ref_WM-026_dir3_angle35.0.png - A photo of a [clear], [unobstructed], and [frontal] face with [typical expression] under [normal lighting]\n",
      "Copied: ref_WM-204_dir4_angle25.0.png - A photo of a [clear], [unobstructed], and [frontal] face with [typical expression] under [normal lighting]\n",
      "Copied: ref_WM-040_dir3_angle35.0.png - A photo of a [clear], [unobstructed], and [frontal] face with [typical expression] under [normal lighting]\n",
      "Copied: ref_LM-234_dir0_angle25.0.png - A photo of a [clear], [unobstructed], and [frontal] face with [typical expression] under [extreme lighting]\n",
      "Copied: ref_WM-217_dir-1_angle0.0.png - A photo of a [clear], [unobstructed], and [frontal] face with [typical expression] under [extreme lighting]\n",
      "Copied: ref_WM-040_dir2_angle5.0.png - A photo of a [clear], [unobstructed], and [frontal] face with [typical expression] under [normal lighting]\n",
      "Filtering complete. Processed images saved in /home/veronicabossio/face_datasets/filtered_faces_pose_quality\n"
     ]
    }
   ],
   "source": [
    "clib.batch_filter_images(\n",
    "        input_dir=\"/home/veronicabossio/face_datasets/filter_test_neighbors\",\n",
    "        output_dir=\"/home/veronicabossio/face_datasets/filtered_faces_pose_quality\",\n",
    "        quality_thresh=0.76,    # Only keep images with quality > 0.78\n",
    "        pose_filter=\"frontal\",  # Only keep frontal images\n",
    "        expression_thresh=0.3   # Remove exaggerated expressions above 0.3 probability\n",
    "    )"
   ]
  },
  {
   "cell_type": "code",
   "execution_count": null,
   "metadata": {},
   "outputs": [],
   "source": []
  }
 ],
 "metadata": {
  "kernelspec": {
   "display_name": "clib",
   "language": "python",
   "name": "python3"
  },
  "language_info": {
   "codemirror_mode": {
    "name": "ipython",
    "version": 3
   },
   "file_extension": ".py",
   "mimetype": "text/x-python",
   "name": "python",
   "nbconvert_exporter": "python",
   "pygments_lexer": "ipython3",
   "version": "3.13.2"
  }
 },
 "nbformat": 4,
 "nbformat_minor": 2
}
