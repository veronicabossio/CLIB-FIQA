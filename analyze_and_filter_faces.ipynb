{
 "cells": [
  {
   "cell_type": "code",
   "execution_count": null,
   "metadata": {},
   "outputs": [],
   "source": [
    "# inference on faces"
   ]
  },
  {
   "cell_type": "code",
   "execution_count": 1,
   "metadata": {},
   "outputs": [],
   "source": [
    "%reload_ext autoreload\n",
    "%autoreload 2\n",
    "\n",
    "import CLIB_analysis_module as clib"
   ]
  },
  {
   "cell_type": "code",
   "execution_count": 8,
   "metadata": {},
   "outputs": [
    {
     "data": {
      "text/plain": [
       "{'image_path': '/home/veronicabossio/face_datasets/for_arrangements/arrangement_3_after_deepface/ref_WM-252_dir6_angle51.32.png',\n",
       " 'quality': array(0.75077343, dtype=float32),\n",
       " 'pose': 'frontal',\n",
       " 'expression_score': np.float16(0.269),\n",
       " 'expression': 'typical expression',\n",
       " 'lighting': 'extreme lighting',\n",
       " 'message': 'A photo of a [clear], [unobstructed], and [frontal] face with [typical expression] under [extreme lighting]'}"
      ]
     },
     "execution_count": 8,
     "metadata": {},
     "output_type": "execute_result"
    }
   ],
   "source": [
    "image_summary = clib.analyze_image(\"/home/veronicabossio/face_datasets/for_arrangements/arrangement_3_after_deepface/ref_WM-252_dir6_angle51.32.png\")\n",
    "image_summary"
   ]
  },
  {
   "cell_type": "code",
   "execution_count": 27,
   "metadata": {},
   "outputs": [
    {
     "name": "stdout",
     "output_type": "stream",
     "text": [
      "Copied: ref_AM-247_dir12_angle39.74.png - A photo of a [clear], [unobstructed], and [slight angle] face with [typical expression] under [normal lighting]\n",
      "Skipping: ref_AM-247_dir9_angle5.00.png - Pose not in filter\n",
      "Skipping: ref_AM-247_dir10_angle48.42.png - Quality below threshold\n",
      "Copied: ref_AM-247_dir11_angle48.42.png - A photo of a [clear], [unobstructed], and [frontal] face with [typical expression] under [normal lighting]\n",
      "Copied: ref_AM-247_dir12_angle28.16.png - A photo of a [clear], [unobstructed], and [frontal] face with [typical expression] under [normal lighting]\n",
      "Copied: ref_AM-247_dir14_angle54.21.png - A photo of a [clear], [unobstructed], and [frontal] face with [typical expression] under [normal lighting]\n",
      "Copied: ref_AM-247_dir6_angle51.32.png - A photo of a [clear], [unobstructed], and [slight angle] face with [typical expression] under [normal lighting]\n",
      "Copied: ref_AM-247_reference.png - A photo of a [clear], [unobstructed], and [slight angle] face with [typical expression] under [normal lighting]\n",
      "Skipping: ref_AM-247_dir10_angle16.58.png - Quality below threshold\n",
      "Copied: ref_AM-247_dir12_angle19.47.png - A photo of a [clear], [unobstructed], and [slight angle] face with [typical expression] under [normal lighting]\n",
      "Copied: ref_AM-247_dir9_angle57.11.png - A photo of a [clear], [unobstructed], and [frontal] face with [typical expression] under [extreme lighting]\n",
      "Copied: ref_AM-247_dir9_angle19.47.png - A photo of a [clear], [unobstructed], and [frontal] face with [typical expression] under [normal lighting]\n",
      "Copied: ref_AM-247_dir14_angle33.95.png - A photo of a [clear], [unobstructed], and [frontal] face with [typical expression] under [extreme lighting]\n",
      "Skipping: ref_AM-247_dir14_angle45.53.png - Quality below threshold\n",
      "Skipping: ref_AM-247_dir9_angle22.37.png - Pose not in filter\n",
      "Copied: ref_AM-247_dir12_angle16.58.png - A photo of a [clear], [unobstructed], and [slight angle] face with [typical expression] under [extreme lighting]\n",
      "Copied: ref_AM-247_dir15_angle10.79.png - A photo of a [clear], [unobstructed], and [frontal] face with [typical expression] under [extreme lighting]\n",
      "Copied: ref_AM-247_dir9_angle31.05.png - A photo of a [clear], [unobstructed], and [frontal] face with [typical expression] under [normal lighting]\n",
      "Copied: ref_AM-247_dir13_angle39.74.png - A photo of a [clear], [unobstructed], and [frontal] face with [typical expression] under [normal lighting]\n",
      "Copied: ref_AM-247_dir9_angle25.26.png - A photo of a [clear], [unobstructed], and [frontal] face with [typical expression] under [normal lighting]\n",
      "Copied: ref_AM-247_dir7_angle33.95.png - A photo of a [clear], [unobstructed], and [frontal] face with [typical expression] under [normal lighting]\n",
      "Copied: ref_AM-247_dir14_angle19.47.png - A photo of a [clear], [unobstructed], and [frontal] face with [typical expression] under [normal lighting]\n",
      "Filtering complete. Processed images saved in /home/veronicabossio/face_datasets/for_arrangements2/arrangement_5_after_deepface_and_clib\n"
     ]
    }
   ],
   "source": [
    "clib.batch_filter_images(\n",
    "        input_dir=\"/home/veronicabossio/face_datasets/for_arrangements2/arrangement_5_after_deepface\",\n",
    "        output_dir=\"/home/veronicabossio/face_datasets/for_arrangements2/arrangement_5_after_deepface_and_clib\",\n",
    "        quality_thresh=0.74,    # Only keep images with quality > 0.78\n",
    "        pose_filter=[\"frontal\", 'slight angle'],  # Only keep frontal images\n",
    "        #pose_filter=\"frontal\",  # Only keep frontal images\n",
    "        #expression_thresh=0.3   # Remove exaggerated expressions above 0.3 probability\n",
    "    )"
   ]
  },
  {
   "cell_type": "code",
   "execution_count": null,
   "metadata": {},
   "outputs": [],
   "source": []
  },
  {
   "cell_type": "code",
   "execution_count": null,
   "metadata": {},
   "outputs": [],
   "source": []
  },
  {
   "cell_type": "code",
   "execution_count": null,
   "metadata": {},
   "outputs": [],
   "source": []
  },
  {
   "cell_type": "code",
   "execution_count": null,
   "metadata": {},
   "outputs": [],
   "source": []
  },
  {
   "cell_type": "code",
   "execution_count": null,
   "metadata": {},
   "outputs": [],
   "source": []
  }
 ],
 "metadata": {
  "kernelspec": {
   "display_name": "clib",
   "language": "python",
   "name": "python3"
  },
  "language_info": {
   "codemirror_mode": {
    "name": "ipython",
    "version": 3
   },
   "file_extension": ".py",
   "mimetype": "text/x-python",
   "name": "python",
   "nbconvert_exporter": "python",
   "pygments_lexer": "ipython3",
   "version": "3.13.2"
  }
 },
 "nbformat": 4,
 "nbformat_minor": 2
}
